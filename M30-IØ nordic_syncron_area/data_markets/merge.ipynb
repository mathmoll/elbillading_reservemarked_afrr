{
 "cells": [
  {
   "cell_type": "code",
   "execution_count": 44,
   "metadata": {
    "ExecuteTime": {
     "end_time": "2024-04-21T10:39:13.088245Z",
     "start_time": "2024-04-21T10:39:13.074985Z"
    }
   },
   "outputs": [],
   "source": [
    "import pickle\n",
    "import pandas as pd"
   ]
  },
  {
   "cell_type": "code",
   "execution_count": 45,
   "metadata": {
    "ExecuteTime": {
     "end_time": "2024-04-21T10:39:13.210876Z",
     "start_time": "2024-04-21T10:39:13.092956Z"
    }
   },
   "outputs": [],
   "source": [
    "# load the pickle file\n",
    "with open('PrimaryReservesD-2-2023_ny.pkl', 'rb') as f:\n",
    "    D2 = pickle.load(f)\n",
    "\n",
    "# load the pickle file\n",
    "with open('PrimaryReservesD-1-2023_ny.pkl', 'rb') as f:\n",
    "    D1 = pickle.load(f)\n",
    "\n",
    "# load picke 2023_spot\n",
    "\n",
    "with open('2023_spot_norway.pkl', 'rb') as f:\n",
    "    spot = pickle.load(f)"
   ]
  },
  {
   "cell_type": "code",
   "execution_count": 46,
   "metadata": {
    "ExecuteTime": {
     "end_time": "2024-04-21T10:39:13.254780Z",
     "start_time": "2024-04-21T10:39:13.219002Z"
    }
   },
   "outputs": [],
   "source": [
    "# merge D2['NO1'] with first column of spot\n",
    "# pd.merge(date, NO5, how='left', left_on='Datetime', right_on='Datetime')\n",
    "\n",
    "areas = {}\n",
    "\n",
    "for i, key in enumerate(D2.keys()):\n",
    "    areas[key] = pd.merge(spot.iloc[:,i], D1[key], how='left', right_on=\"Datetime\", left_index=True)\n",
    "    areas[key] = pd.merge(areas[key], D2[key], how='left', right_on=\"Datetime\", left_on=\"Datetime\")\n",
    "    \n"
   ]
  },
  {
   "cell_type": "code",
   "execution_count": 47,
   "metadata": {
    "ExecuteTime": {
     "end_time": "2024-04-21T10:39:13.306860Z",
     "start_time": "2024-04-21T10:39:13.254572Z"
    }
   },
   "outputs": [
    {
     "name": "stderr",
     "output_type": "stream",
     "text": [
      "/var/folders/3c/tpkrzdm9581crcp362vng33m0000gn/T/ipykernel_1303/1854518242.py:22: FutureWarning: Setting an item of incompatible dtype is deprecated and will raise an error in a future version of pandas. Value '13.26259946949602' has dtype incompatible with int64, please explicitly cast to a compatible dtype first.\n",
      "  areas[key].loc[FFR_Profil_daterange, 'FFR Profil EUR/MW'] = 150 * NOK_TO_EUR\n",
      "/var/folders/3c/tpkrzdm9581crcp362vng33m0000gn/T/ipykernel_1303/1854518242.py:22: FutureWarning: Setting an item of incompatible dtype is deprecated and will raise an error in a future version of pandas. Value '13.26259946949602' has dtype incompatible with int64, please explicitly cast to a compatible dtype first.\n",
      "  areas[key].loc[FFR_Profil_daterange, 'FFR Profil EUR/MW'] = 150 * NOK_TO_EUR\n",
      "/var/folders/3c/tpkrzdm9581crcp362vng33m0000gn/T/ipykernel_1303/1854518242.py:22: FutureWarning: Setting an item of incompatible dtype is deprecated and will raise an error in a future version of pandas. Value '13.26259946949602' has dtype incompatible with int64, please explicitly cast to a compatible dtype first.\n",
      "  areas[key].loc[FFR_Profil_daterange, 'FFR Profil EUR/MW'] = 150 * NOK_TO_EUR\n",
      "/var/folders/3c/tpkrzdm9581crcp362vng33m0000gn/T/ipykernel_1303/1854518242.py:22: FutureWarning: Setting an item of incompatible dtype is deprecated and will raise an error in a future version of pandas. Value '13.26259946949602' has dtype incompatible with int64, please explicitly cast to a compatible dtype first.\n",
      "  areas[key].loc[FFR_Profil_daterange, 'FFR Profil EUR/MW'] = 150 * NOK_TO_EUR\n",
      "/var/folders/3c/tpkrzdm9581crcp362vng33m0000gn/T/ipykernel_1303/1854518242.py:22: FutureWarning: Setting an item of incompatible dtype is deprecated and will raise an error in a future version of pandas. Value '13.26259946949602' has dtype incompatible with int64, please explicitly cast to a compatible dtype first.\n",
      "  areas[key].loc[FFR_Profil_daterange, 'FFR Profil EUR/MW'] = 150 * NOK_TO_EUR\n"
     ]
    },
    {
     "data": {
      "text/plain": "\" \\nareas['NO1'].loc[FFR_Profil_daterange, 'FFR Profil EUR/MW'] = 150 * NOK_TO_EUR\\nareas['NO1'].loc[FFR_Profil_daterange, 'FFR Profil MW'] = 50\\n \""
     },
     "execution_count": 47,
     "metadata": {},
     "output_type": "execute_result"
    }
   ],
   "source": [
    "# Set up price and volume for FFR Profil\n",
    "areas['NO1']['FFR Profil EUR/MW'] = 0\n",
    "areas['NO1']['FFR Profil MW'] = 0\n",
    "\n",
    "# Start and end date for FFR Profil\n",
    "date_start = '2023-05-22'\n",
    "date_end = '2023-09-02'\n",
    "\n",
    "# Start and end time for FFR Profil\n",
    "time_start = 22\n",
    "time_end = 7\n",
    "\n",
    "# Logic for FFR Profil (Always active on weekends)\n",
    "FFR_Profil_daterange = (areas['NO1']['Datetime'] >= date_start) & (areas['NO1']['Datetime'] <= date_end) & ((areas['NO1']['Datetime'].dt.weekday >= 5) | ((areas['NO1']['Datetime'].dt.hour >= time_start) | (areas['NO1']['Datetime'].dt.hour < time_end)))\n",
    "\n",
    "# Set price and volume for FFR Profil\n",
    "NOK_TO_EUR = 1/11.31\n",
    "\n",
    "for key in areas.keys():\n",
    "    areas[key]['FFR Profil EUR/MW'] = 0\n",
    "    areas[key]['FFR Profil MW'] = 0\n",
    "    areas[key].loc[FFR_Profil_daterange, 'FFR Profil EUR/MW'] = 150 * NOK_TO_EUR\n",
    "    areas[key].loc[FFR_Profil_daterange, 'FFR Profil MW'] = 50\n",
    "\n",
    "\"\"\" \n",
    "areas['NO1'].loc[FFR_Profil_daterange, 'FFR Profil EUR/MW'] = 150 * NOK_TO_EUR\n",
    "areas['NO1'].loc[FFR_Profil_daterange, 'FFR Profil MW'] = 50\n",
    " \"\"\"\n"
   ]
  },
  {
   "cell_type": "code",
   "execution_count": 48,
   "metadata": {
    "ExecuteTime": {
     "end_time": "2024-04-21T10:39:13.312249Z",
     "start_time": "2024-04-21T10:39:13.289409Z"
    }
   },
   "outputs": [
    {
     "name": "stderr",
     "output_type": "stream",
     "text": [
      "/var/folders/3c/tpkrzdm9581crcp362vng33m0000gn/T/ipykernel_1303/360272971.py:17: FutureWarning: Setting an item of incompatible dtype is deprecated and will raise an error in a future version of pandas. Value '39.78779840848806' has dtype incompatible with int64, please explicitly cast to a compatible dtype first.\n",
      "  areas[key].loc[FFR_Flex_daterange, 'FFR Flex EUR/MW'] = 450 * NOK_TO_EUR\n",
      "/var/folders/3c/tpkrzdm9581crcp362vng33m0000gn/T/ipykernel_1303/360272971.py:17: FutureWarning: Setting an item of incompatible dtype is deprecated and will raise an error in a future version of pandas. Value '39.78779840848806' has dtype incompatible with int64, please explicitly cast to a compatible dtype first.\n",
      "  areas[key].loc[FFR_Flex_daterange, 'FFR Flex EUR/MW'] = 450 * NOK_TO_EUR\n",
      "/var/folders/3c/tpkrzdm9581crcp362vng33m0000gn/T/ipykernel_1303/360272971.py:17: FutureWarning: Setting an item of incompatible dtype is deprecated and will raise an error in a future version of pandas. Value '39.78779840848806' has dtype incompatible with int64, please explicitly cast to a compatible dtype first.\n",
      "  areas[key].loc[FFR_Flex_daterange, 'FFR Flex EUR/MW'] = 450 * NOK_TO_EUR\n",
      "/var/folders/3c/tpkrzdm9581crcp362vng33m0000gn/T/ipykernel_1303/360272971.py:17: FutureWarning: Setting an item of incompatible dtype is deprecated and will raise an error in a future version of pandas. Value '39.78779840848806' has dtype incompatible with int64, please explicitly cast to a compatible dtype first.\n",
      "  areas[key].loc[FFR_Flex_daterange, 'FFR Flex EUR/MW'] = 450 * NOK_TO_EUR\n",
      "/var/folders/3c/tpkrzdm9581crcp362vng33m0000gn/T/ipykernel_1303/360272971.py:17: FutureWarning: Setting an item of incompatible dtype is deprecated and will raise an error in a future version of pandas. Value '39.78779840848806' has dtype incompatible with int64, please explicitly cast to a compatible dtype first.\n",
      "  areas[key].loc[FFR_Flex_daterange, 'FFR Flex EUR/MW'] = 450 * NOK_TO_EUR\n"
     ]
    },
    {
     "data": {
      "text/plain": "\" \\nareas['NO1'].loc[FFR_Flex_daterange, 'FFR Flex EUR/MW'] = 450 * NOK_TO_EUR\\n\\nareas['NO1'].loc[FFR_Flex_daterange, 'FFR Flex MW'] = 102 \\n\""
     },
     "execution_count": 48,
     "metadata": {},
     "output_type": "execute_result"
    }
   ],
   "source": [
    "# Set up price and volume for FFR Flex\n",
    "\n",
    "areas['NO1']['FFR Flex EUR/MW'] = 0\n",
    "areas['NO1']['FFR Flex MW'] = 0\n",
    "\n",
    "date_start = '2023-04-09'\n",
    "date_end = '2023-10-27'\n",
    "\n",
    "time_start = 8\n",
    "time_end = 12\n",
    "\n",
    "FFR_Flex_daterange = (areas['NO1']['Datetime'] >= date_start) & (areas['NO1']['Datetime'] <= date_end) & ( ((areas['NO1']['Datetime'].dt.hour >= time_start) & (areas['NO1']['Datetime'].dt.hour < time_end)))\n",
    "\n",
    "for key in areas.keys():\n",
    "    areas[key]['FFR Flex EUR/MW'] = 0\n",
    "    areas[key]['FFR Flex MW'] = 0\n",
    "    areas[key].loc[FFR_Flex_daterange, 'FFR Flex EUR/MW'] = 450 * NOK_TO_EUR\n",
    "    areas[key].loc[FFR_Flex_daterange, 'FFR Flex MW'] = 102\n",
    "\n",
    "\n",
    "\n",
    "\"\"\" \n",
    "areas['NO1'].loc[FFR_Flex_daterange, 'FFR Flex EUR/MW'] = 450 * NOK_TO_EUR\n",
    "\n",
    "areas['NO1'].loc[FFR_Flex_daterange, 'FFR Flex MW'] = 102 \n",
    "\"\"\"\n",
    "\n",
    "\n",
    "\n"
   ]
  },
  {
   "cell_type": "code",
   "outputs": [
    {
     "name": "stderr",
     "output_type": "stream",
     "text": [
      "/Users/mathiasmollatt/opt/miniconda3/envs/inf200june/lib/python3.11/site-packages/entsoe/parsers.py:449: FutureWarning: DataFrame.groupby with axis=1 is deprecated. Do `frame.T.groupby(...)` without axis instead.\n",
      "  df = df.groupby(axis=1, level = [0,1]).mean()\n",
      "/Users/mathiasmollatt/opt/miniconda3/envs/inf200june/lib/python3.11/site-packages/entsoe/parsers.py:449: FutureWarning: DataFrame.groupby with axis=1 is deprecated. Do `frame.T.groupby(...)` without axis instead.\n",
      "  df = df.groupby(axis=1, level = [0,1]).mean()\n",
      "/Users/mathiasmollatt/opt/miniconda3/envs/inf200june/lib/python3.11/site-packages/entsoe/parsers.py:449: FutureWarning: DataFrame.groupby with axis=1 is deprecated. Do `frame.T.groupby(...)` without axis instead.\n",
      "  df = df.groupby(axis=1, level = [0,1]).mean()\n",
      "/Users/mathiasmollatt/opt/miniconda3/envs/inf200june/lib/python3.11/site-packages/entsoe/parsers.py:449: FutureWarning: DataFrame.groupby with axis=1 is deprecated. Do `frame.T.groupby(...)` without axis instead.\n",
      "  df = df.groupby(axis=1, level = [0,1]).mean()\n",
      "/Users/mathiasmollatt/opt/miniconda3/envs/inf200june/lib/python3.11/site-packages/entsoe/parsers.py:449: FutureWarning: DataFrame.groupby with axis=1 is deprecated. Do `frame.T.groupby(...)` without axis instead.\n",
      "  df = df.groupby(axis=1, level = [0,1]).mean()\n",
      "/Users/mathiasmollatt/opt/miniconda3/envs/inf200june/lib/python3.11/site-packages/entsoe/parsers.py:449: FutureWarning: DataFrame.groupby with axis=1 is deprecated. Do `frame.T.groupby(...)` without axis instead.\n",
      "  df = df.groupby(axis=1, level = [0,1]).mean()\n",
      "/Users/mathiasmollatt/opt/miniconda3/envs/inf200june/lib/python3.11/site-packages/entsoe/parsers.py:449: FutureWarning: DataFrame.groupby with axis=1 is deprecated. Do `frame.T.groupby(...)` without axis instead.\n",
      "  df = df.groupby(axis=1, level = [0,1]).mean()\n",
      "/Users/mathiasmollatt/opt/miniconda3/envs/inf200june/lib/python3.11/site-packages/entsoe/parsers.py:449: FutureWarning: DataFrame.groupby with axis=1 is deprecated. Do `frame.T.groupby(...)` without axis instead.\n",
      "  df = df.groupby(axis=1, level = [0,1]).mean()\n",
      "/Users/mathiasmollatt/opt/miniconda3/envs/inf200june/lib/python3.11/site-packages/entsoe/parsers.py:449: FutureWarning: DataFrame.groupby with axis=1 is deprecated. Do `frame.T.groupby(...)` without axis instead.\n",
      "  df = df.groupby(axis=1, level = [0,1]).mean()\n",
      "/Users/mathiasmollatt/opt/miniconda3/envs/inf200june/lib/python3.11/site-packages/entsoe/parsers.py:449: FutureWarning: DataFrame.groupby with axis=1 is deprecated. Do `frame.T.groupby(...)` without axis instead.\n",
      "  df = df.groupby(axis=1, level = [0,1]).mean()\n",
      "/Users/mathiasmollatt/opt/miniconda3/envs/inf200june/lib/python3.11/site-packages/entsoe/parsers.py:449: FutureWarning: DataFrame.groupby with axis=1 is deprecated. Do `frame.T.groupby(...)` without axis instead.\n",
      "  df = df.groupby(axis=1, level = [0,1]).mean()\n",
      "/Users/mathiasmollatt/opt/miniconda3/envs/inf200june/lib/python3.11/site-packages/entsoe/parsers.py:449: FutureWarning: DataFrame.groupby with axis=1 is deprecated. Do `frame.T.groupby(...)` without axis instead.\n",
      "  df = df.groupby(axis=1, level = [0,1]).mean()\n",
      "/Users/mathiasmollatt/opt/miniconda3/envs/inf200june/lib/python3.11/site-packages/entsoe/parsers.py:449: FutureWarning: DataFrame.groupby with axis=1 is deprecated. Do `frame.T.groupby(...)` without axis instead.\n",
      "  df = df.groupby(axis=1, level = [0,1]).mean()\n",
      "/Users/mathiasmollatt/opt/miniconda3/envs/inf200june/lib/python3.11/site-packages/entsoe/parsers.py:449: FutureWarning: DataFrame.groupby with axis=1 is deprecated. Do `frame.T.groupby(...)` without axis instead.\n",
      "  df = df.groupby(axis=1, level = [0,1]).mean()\n",
      "/Users/mathiasmollatt/opt/miniconda3/envs/inf200june/lib/python3.11/site-packages/entsoe/parsers.py:449: FutureWarning: DataFrame.groupby with axis=1 is deprecated. Do `frame.T.groupby(...)` without axis instead.\n",
      "  df = df.groupby(axis=1, level = [0,1]).mean()\n",
      "/Users/mathiasmollatt/opt/miniconda3/envs/inf200june/lib/python3.11/site-packages/entsoe/parsers.py:449: FutureWarning: DataFrame.groupby with axis=1 is deprecated. Do `frame.T.groupby(...)` without axis instead.\n",
      "  df = df.groupby(axis=1, level = [0,1]).mean()\n",
      "/Users/mathiasmollatt/opt/miniconda3/envs/inf200june/lib/python3.11/site-packages/entsoe/parsers.py:449: FutureWarning: DataFrame.groupby with axis=1 is deprecated. Do `frame.T.groupby(...)` without axis instead.\n",
      "  df = df.groupby(axis=1, level = [0,1]).mean()\n",
      "/Users/mathiasmollatt/opt/miniconda3/envs/inf200june/lib/python3.11/site-packages/entsoe/parsers.py:449: FutureWarning: DataFrame.groupby with axis=1 is deprecated. Do `frame.T.groupby(...)` without axis instead.\n",
      "  df = df.groupby(axis=1, level = [0,1]).mean()\n"
     ]
    }
   ],
   "source": [
    "# Set up price and volume for aFFR opp\n",
    "from entsoe import EntsoePandasClient\n",
    "import pandas as pd\n",
    "\n",
    "client = EntsoePandasClient(api_key='c008ebef-0f0f-42b2-a2ae-7330192177ac')\n",
    "\n",
    "start = pd.Timestamp('20230101', tz='Europe/Brussels')\n",
    "end = pd.Timestamp('20231231', tz='Europe/Brussels')\n",
    "country_code = 'NO_1'  # Belgium\n",
    "type_marketagreement_type = 'A01'\n",
    "\n",
    "# get the data\n",
    "#day_ahead = client.query_day_ahead_prices(country_code, start=start, end=end) #KeyError: '60T'\n",
    "reservemarked_pris = client.query_contracted_reserve_prices(country_code, type_marketagreement_type, start=start, end=end, psr_type=None)\n",
    "reservemarked_volum = client.query_contracted_reserve_amount(country_code, type_marketagreement_type, start=start, end=end, psr_type=None)\n",
    "\n",
    "#clean the data\n",
    "reservemarked_pris.columns = reservemarked_pris.columns.droplevel(0) #remove multiindex in columns\n",
    "reservemarked_pris = reservemarked_pris.drop(columns=['Symmetric']) #del 'Frequency containment reserve' column\n",
    "reservemarked_pris = reservemarked_pris.rename(columns={'Down': 'aFRR down EUR/MW'}) #rename columnns\n",
    "reservemarked_pris = reservemarked_pris.rename(columns={'Up': 'aFRR up EUR/MW'}) #rename columnns\n",
    "\n",
    "reservemarked_volum.columns = reservemarked_volum.columns.droplevel(0) #remove multiindex in columns\n",
    "reservemarked_volum = reservemarked_volum.drop(columns=['Symmetric']) #del 'Frequency containment reserve' column\n",
    "reservemarked_volum = reservemarked_volum.rename(columns={'Down': 'aFRR down MW'}) #rename columnns\n",
    "reservemarked_volum = reservemarked_volum.rename(columns={'Up': 'aFRR up MW'}) #rename columnns\n",
    "\n",
    "\n",
    "reservemarked_pris = reservemarked_pris.reset_index() #remove index and set it as a column\n",
    "reservemarked_pris = reservemarked_pris.rename(columns={'index': 'Datetime'}) #change name of column\n",
    "#reservemarked_pris['Datetime'] = reservemarked_pris['Datetime'].dt.tz_convert('Europe/Brussels') #convert to UTC\n",
    "reservemarked_pris['Datetime'] = reservemarked_pris['Datetime'].dt.tz_convert('UTC') #convert to UTC\n",
    "reservemarked_pris['Datetime'] = reservemarked_pris['Datetime'] + pd.Timedelta(hours=1)\n",
    "\n",
    "\n",
    "reservemarked_volum = reservemarked_volum.reset_index() #remove index and set it as a column\n",
    "reservemarked_volum = reservemarked_volum.rename(columns={'index': 'Datetime'}) #change name of column\n",
    "#reservemarked_volum['Datetime'] = reservemarked_volum['Datetime'].dt.tz_convert('Europe/Brussels') #convert to UTC\n",
    "reservemarked_volum['Datetime'] = reservemarked_volum['Datetime'].dt.tz_convert('UTC') #convert to UTC\n",
    "reservemarked_volum['Datetime'] = reservemarked_volum['Datetime'] + pd.Timedelta(hours=1)\n",
    "\n",
    "\n",
    "#merge the data into areas['NO1']\n",
    "areas['NO1'] = pd.merge(areas['NO1'], reservemarked_pris, how='left', right_on=\"Datetime\", left_on=\"Datetime\")\n",
    "areas['NO1'] = pd.merge(areas['NO1'], reservemarked_volum, how='left', right_on=\"Datetime\", left_on=\"Datetime\")\n",
    "\n"
   ],
   "metadata": {
    "collapsed": false,
    "ExecuteTime": {
     "end_time": "2024-04-21T10:44:43.565344Z",
     "start_time": "2024-04-21T10:39:13.310888Z"
    }
   },
   "execution_count": 49
  },
  {
   "cell_type": "code",
   "outputs": [],
   "source": [
    "    # Load the CSV file into a DataFrame\n",
    "    df = pd.read_csv('Accepted Offers and Activated Balancing Reserves_202301010000-202401010000.csv')\n",
    "\n",
    "    # Filter the DataFrame to include only rows where 'Source' is 'Not specified'\n",
    "    filtered_df = df[df['Source'] == 'Not specified']\n",
    "\n",
    "    # Rename columns for clarity\n",
    "    renamed_df = filtered_df.rename(columns={\n",
    "        'Balancing Time Unit (Automatic Frequency Restoration Reserve (aFRR))': 'Datetime',\n",
    "        'Regulation Up Accepted [MW] - MBA|NO1': 'aFRR up MW v2',\n",
    "        'Regulation Up Activated [MWh] - MBA|NO1': 'aFRR up MWh activated',\n",
    "        'Regulation Down Accepted [MW] - MBA|NO1': 'aFRR down MW v2',\n",
    "        'Regulation Down Activated [MWh] - MBA|NO1': 'aFRR down MWh activated'\n",
    "    })\n",
    "\n",
    "    # Preprocess 'Datetime' to extract just the start datetime and convert to pandas datetime objects\n",
    "    # Assuming the format is 'start - end' and the datetime format is 'DD.MM.YYYY HH:MM'\n",
    "    renamed_df['Datetime'] = pd.to_datetime(renamed_df['Datetime'].apply(lambda x: x.split(' - ')[0]), format='%d.%m.%Y %H:%M')\n",
    "\n",
    "    # Make 'Datetime' timezone-aware, assuming it's in UTC\n",
    "    renamed_df['Datetime'] = renamed_df['Datetime'].dt.tz_localize('UTC')\n",
    "    #renamed_df['Datetime'] = renamed_df['Datetime'].dt.tz_localize(None)\n",
    "    #convert to UTC\n",
    "    #renamed_df['Datetime'] = renamed_df['Datetime'].dt.tz_convert('Europe/Brussels')\n",
    "\n",
    "    final_df = renamed_df.drop(columns=['Source'])\n",
    "\n",
    "    # Force columns to float, replacing commas with dots\n",
    "    float_columns = ['aFRR up MW v2', 'aFRR up MWh activated', 'aFRR down MW v2', 'aFRR down MWh activated']\n",
    "    for col in float_columns:\n",
    "        final_df[col] = final_df[col].str.replace(',', '.').astype(float)\n",
    "\n",
    "\n",
    "    # Merge the data into areas['NO1']\n",
    "    areas['NO1'] = pd.merge(areas['NO1'], final_df, how='left', right_on=\"Datetime\", left_on=\"Datetime\")\n"
   ],
   "metadata": {
    "collapsed": false,
    "ExecuteTime": {
     "end_time": "2024-04-21T10:45:28.558002Z",
     "start_time": "2024-04-21T10:45:28.449960Z"
    }
   },
   "execution_count": 51
  },
  {
   "cell_type": "code",
   "outputs": [],
   "source": [
    "\n",
    "# Load the dataset\n",
    "file_path = 'Prices of Activated Balancing Energy_202301010000-202401010000.csv'\n",
    "data = pd.read_csv(file_path)\n",
    "\n",
    "# Modify the 'Time Interval' column to only keep the start datetime\n",
    "data['Time Interval'] = pd.to_datetime(data['Time Interval'].apply(lambda x: x.split(' - ')[0]), format='%d.%m.%Y %H:%M')\n",
    "\n",
    "# Keep only Time Interval, Up price, Down price\n",
    "data = data[['Time Interval', 'Up price', 'Down Price']]\n",
    "\n",
    "# Rename columns for clarity\n",
    "data = data.rename(columns={\n",
    "    'Time Interval': 'Datetime',\n",
    "    'Up price': 'mFRR EAM up EUR/MWh',\n",
    "    'Down Price': 'mFRR EAM down EUR/MWh'\n",
    "})\n",
    "\n",
    "# Make 'Datetime' timezone-aware, assuming it's in UTC\n",
    "#renamed_df['Datetime'] = renamed_df['Datetime'].dt.tz_localize('UTC')\n",
    "#renamed_df['Datetime'] = renamed_df['Datetime'].dt.tz_localize(None)\n",
    "#convert to UTC\n",
    "renamed_df['Datetime'] = renamed_df['Datetime'].dt.tz_convert('UTC')\n",
    "\n",
    "\n",
    "\n",
    "# Merge the data into areas['NO1']\n",
    "areas['NO1'] = pd.merge(areas['NO1'], data, how='left', right_on=\"Datetime\", left_on=\"Datetime\")\n"
   ],
   "metadata": {
    "collapsed": false,
    "ExecuteTime": {
     "end_time": "2024-04-21T10:47:51.020525Z",
     "start_time": "2024-04-21T10:47:50.898159Z"
    }
   },
   "execution_count": 61
  },
  {
   "cell_type": "code",
   "execution_count": 62,
   "metadata": {
    "ExecuteTime": {
     "end_time": "2024-04-21T10:47:52.133813Z",
     "start_time": "2024-04-21T10:47:52.113124Z"
    }
   },
   "outputs": [],
   "source": [
    "# dump the pickle file\n",
    "with open('2023_norway.pkl', 'wb') as f:\n",
    "    pickle.dump(areas, f)"
   ]
  },
  {
   "cell_type": "code",
   "execution_count": 63,
   "metadata": {
    "ExecuteTime": {
     "end_time": "2024-04-21T10:48:06.937375Z",
     "start_time": "2024-04-21T10:47:52.797496Z"
    }
   },
   "outputs": [],
   "source": [
    "# make to excel, index = Datetime\n",
    "# datetime has to be utc removed\n",
    "\n",
    "for key in areas.keys():\n",
    "    areas[key]['Datetime'] = areas[key]['Datetime'].dt.tz_localize(None)\n",
    "    \n",
    "\n",
    "    areas[key].to_excel('excel/'+ key + '.xlsx', index=False)"
   ]
  },
  {
   "cell_type": "code",
   "outputs": [
    {
     "data": {
      "text/plain": "      NO1 EUR_per_MWh            Datetime  D-1 FCR N EUR/MW  D-1 FCR N MW  \\\n0              119.32 2023-01-01 00:00:00             25.00          10.0   \n1              108.83 2023-01-01 01:00:00             35.80          10.0   \n2              102.39 2023-01-01 02:00:00             52.40           8.0   \n3               92.36 2023-01-01 03:00:00             71.50           8.0   \n4               82.66 2023-01-01 04:00:00             90.00           8.0   \n...               ...                 ...               ...           ...   \n8758            62.88 2023-12-31 19:00:00             22.24          20.0   \n8759            62.60 2023-12-31 20:00:00             23.10          20.0   \n8760            62.25 2023-12-31 21:00:00             23.10          21.0   \n8761            61.77 2023-12-31 22:00:00             22.00          21.0   \n8762            59.31 2023-12-31 23:00:00            -99.00         -99.0   \n\n      D-1 FCR D up EUR/MW  D-1 FCR D up MW  D-2 FCR N EUR/MW  D-2 FCR N MW  \\\n0                   -99.0              0.0              63.0          15.0   \n1                   -99.0              0.0              64.9          15.0   \n2                   -99.0              0.0              64.9          15.0   \n3                   -99.0              0.0              64.9          15.0   \n4                   -99.0              0.0              64.9          15.0   \n...                   ...              ...               ...           ...   \n8758                -99.0              0.0              20.0          18.0   \n8759                -99.0              0.0              20.0          18.0   \n8760                -99.0              0.0              20.0          18.0   \n8761                -99.0              0.0              20.0          18.0   \n8762                -99.0            -99.0             -99.0         -99.0   \n\n      D-2 FCR D up EUR/MW  D-2 FCR D up MW  ...  aFRR down EUR/MW  \\\n0                   -99.0              0.0  ...             104.0   \n1                   -99.0              0.0  ...               0.0   \n2                   -99.0              0.0  ...               0.0   \n3                   -99.0              0.0  ...               0.0   \n4                   -99.0              0.0  ...               0.0   \n...                   ...              ...  ...               ...   \n8758                -99.0              0.0  ...               NaN   \n8759                -99.0              0.0  ...               NaN   \n8760                -99.0              0.0  ...               NaN   \n8761                -99.0              0.0  ...               NaN   \n8762                -99.0            -99.0  ...               NaN   \n\n      aFRR up EUR/MW  aFRR down MW  aFRR up MW  aFRR up MW v2  \\\n0               80.0           0.0         0.0            0.0   \n1                0.0           0.0         0.0            0.0   \n2                0.0           0.0         0.0            0.0   \n3                0.0           0.0         0.0            0.0   \n4                0.0           0.0         0.0            0.0   \n...              ...           ...         ...            ...   \n8758             NaN           NaN         NaN            0.0   \n8759             NaN           NaN         NaN            3.0   \n8760             NaN           NaN         NaN            0.0   \n8761             NaN           NaN         NaN            0.0   \n8762             NaN           NaN         NaN           17.0   \n\n      aFRR up MWh activated  aFRR down MW v2  aFRR down MWh activated  \\\n0                       0.0              0.0                      0.0   \n1                       0.0              0.0                      0.0   \n2                       0.0              0.0                      0.0   \n3                       0.0              0.0                      0.0   \n4                       0.0              0.0                      0.0   \n...                     ...              ...                      ...   \n8758                    0.0             75.0                     49.0   \n8759                    1.0             75.0                     18.0   \n8760                    0.0             75.0                      3.0   \n8761                    0.0             69.0                     36.0   \n8762                    9.0             75.0                      0.0   \n\n      mFRR EAM up EUR/MWh  mFRR EAM down EUR/MWh  \n0                     NaN                    NaN  \n1                  108.83                  40.00  \n2                  102.39                  30.00  \n3                   92.36                  -2.00  \n4                   82.66                  -2.00  \n...                   ...                    ...  \n8758                63.00                  62.88  \n8759                62.60                  62.60  \n8760                62.25                  62.25  \n8761                61.77                  61.77  \n8762                59.31                  59.31  \n\n[8763 rows x 24 columns]",
      "text/html": "<div>\n<style scoped>\n    .dataframe tbody tr th:only-of-type {\n        vertical-align: middle;\n    }\n\n    .dataframe tbody tr th {\n        vertical-align: top;\n    }\n\n    .dataframe thead th {\n        text-align: right;\n    }\n</style>\n<table border=\"1\" class=\"dataframe\">\n  <thead>\n    <tr style=\"text-align: right;\">\n      <th></th>\n      <th>NO1 EUR_per_MWh</th>\n      <th>Datetime</th>\n      <th>D-1 FCR N EUR/MW</th>\n      <th>D-1 FCR N MW</th>\n      <th>D-1 FCR D up EUR/MW</th>\n      <th>D-1 FCR D up MW</th>\n      <th>D-2 FCR N EUR/MW</th>\n      <th>D-2 FCR N MW</th>\n      <th>D-2 FCR D up EUR/MW</th>\n      <th>D-2 FCR D up MW</th>\n      <th>...</th>\n      <th>aFRR down EUR/MW</th>\n      <th>aFRR up EUR/MW</th>\n      <th>aFRR down MW</th>\n      <th>aFRR up MW</th>\n      <th>aFRR up MW v2</th>\n      <th>aFRR up MWh activated</th>\n      <th>aFRR down MW v2</th>\n      <th>aFRR down MWh activated</th>\n      <th>mFRR EAM up EUR/MWh</th>\n      <th>mFRR EAM down EUR/MWh</th>\n    </tr>\n  </thead>\n  <tbody>\n    <tr>\n      <th>0</th>\n      <td>119.32</td>\n      <td>2023-01-01 00:00:00</td>\n      <td>25.00</td>\n      <td>10.0</td>\n      <td>-99.0</td>\n      <td>0.0</td>\n      <td>63.0</td>\n      <td>15.0</td>\n      <td>-99.0</td>\n      <td>0.0</td>\n      <td>...</td>\n      <td>104.0</td>\n      <td>80.0</td>\n      <td>0.0</td>\n      <td>0.0</td>\n      <td>0.0</td>\n      <td>0.0</td>\n      <td>0.0</td>\n      <td>0.0</td>\n      <td>NaN</td>\n      <td>NaN</td>\n    </tr>\n    <tr>\n      <th>1</th>\n      <td>108.83</td>\n      <td>2023-01-01 01:00:00</td>\n      <td>35.80</td>\n      <td>10.0</td>\n      <td>-99.0</td>\n      <td>0.0</td>\n      <td>64.9</td>\n      <td>15.0</td>\n      <td>-99.0</td>\n      <td>0.0</td>\n      <td>...</td>\n      <td>0.0</td>\n      <td>0.0</td>\n      <td>0.0</td>\n      <td>0.0</td>\n      <td>0.0</td>\n      <td>0.0</td>\n      <td>0.0</td>\n      <td>0.0</td>\n      <td>108.83</td>\n      <td>40.00</td>\n    </tr>\n    <tr>\n      <th>2</th>\n      <td>102.39</td>\n      <td>2023-01-01 02:00:00</td>\n      <td>52.40</td>\n      <td>8.0</td>\n      <td>-99.0</td>\n      <td>0.0</td>\n      <td>64.9</td>\n      <td>15.0</td>\n      <td>-99.0</td>\n      <td>0.0</td>\n      <td>...</td>\n      <td>0.0</td>\n      <td>0.0</td>\n      <td>0.0</td>\n      <td>0.0</td>\n      <td>0.0</td>\n      <td>0.0</td>\n      <td>0.0</td>\n      <td>0.0</td>\n      <td>102.39</td>\n      <td>30.00</td>\n    </tr>\n    <tr>\n      <th>3</th>\n      <td>92.36</td>\n      <td>2023-01-01 03:00:00</td>\n      <td>71.50</td>\n      <td>8.0</td>\n      <td>-99.0</td>\n      <td>0.0</td>\n      <td>64.9</td>\n      <td>15.0</td>\n      <td>-99.0</td>\n      <td>0.0</td>\n      <td>...</td>\n      <td>0.0</td>\n      <td>0.0</td>\n      <td>0.0</td>\n      <td>0.0</td>\n      <td>0.0</td>\n      <td>0.0</td>\n      <td>0.0</td>\n      <td>0.0</td>\n      <td>92.36</td>\n      <td>-2.00</td>\n    </tr>\n    <tr>\n      <th>4</th>\n      <td>82.66</td>\n      <td>2023-01-01 04:00:00</td>\n      <td>90.00</td>\n      <td>8.0</td>\n      <td>-99.0</td>\n      <td>0.0</td>\n      <td>64.9</td>\n      <td>15.0</td>\n      <td>-99.0</td>\n      <td>0.0</td>\n      <td>...</td>\n      <td>0.0</td>\n      <td>0.0</td>\n      <td>0.0</td>\n      <td>0.0</td>\n      <td>0.0</td>\n      <td>0.0</td>\n      <td>0.0</td>\n      <td>0.0</td>\n      <td>82.66</td>\n      <td>-2.00</td>\n    </tr>\n    <tr>\n      <th>...</th>\n      <td>...</td>\n      <td>...</td>\n      <td>...</td>\n      <td>...</td>\n      <td>...</td>\n      <td>...</td>\n      <td>...</td>\n      <td>...</td>\n      <td>...</td>\n      <td>...</td>\n      <td>...</td>\n      <td>...</td>\n      <td>...</td>\n      <td>...</td>\n      <td>...</td>\n      <td>...</td>\n      <td>...</td>\n      <td>...</td>\n      <td>...</td>\n      <td>...</td>\n      <td>...</td>\n    </tr>\n    <tr>\n      <th>8758</th>\n      <td>62.88</td>\n      <td>2023-12-31 19:00:00</td>\n      <td>22.24</td>\n      <td>20.0</td>\n      <td>-99.0</td>\n      <td>0.0</td>\n      <td>20.0</td>\n      <td>18.0</td>\n      <td>-99.0</td>\n      <td>0.0</td>\n      <td>...</td>\n      <td>NaN</td>\n      <td>NaN</td>\n      <td>NaN</td>\n      <td>NaN</td>\n      <td>0.0</td>\n      <td>0.0</td>\n      <td>75.0</td>\n      <td>49.0</td>\n      <td>63.00</td>\n      <td>62.88</td>\n    </tr>\n    <tr>\n      <th>8759</th>\n      <td>62.60</td>\n      <td>2023-12-31 20:00:00</td>\n      <td>23.10</td>\n      <td>20.0</td>\n      <td>-99.0</td>\n      <td>0.0</td>\n      <td>20.0</td>\n      <td>18.0</td>\n      <td>-99.0</td>\n      <td>0.0</td>\n      <td>...</td>\n      <td>NaN</td>\n      <td>NaN</td>\n      <td>NaN</td>\n      <td>NaN</td>\n      <td>3.0</td>\n      <td>1.0</td>\n      <td>75.0</td>\n      <td>18.0</td>\n      <td>62.60</td>\n      <td>62.60</td>\n    </tr>\n    <tr>\n      <th>8760</th>\n      <td>62.25</td>\n      <td>2023-12-31 21:00:00</td>\n      <td>23.10</td>\n      <td>21.0</td>\n      <td>-99.0</td>\n      <td>0.0</td>\n      <td>20.0</td>\n      <td>18.0</td>\n      <td>-99.0</td>\n      <td>0.0</td>\n      <td>...</td>\n      <td>NaN</td>\n      <td>NaN</td>\n      <td>NaN</td>\n      <td>NaN</td>\n      <td>0.0</td>\n      <td>0.0</td>\n      <td>75.0</td>\n      <td>3.0</td>\n      <td>62.25</td>\n      <td>62.25</td>\n    </tr>\n    <tr>\n      <th>8761</th>\n      <td>61.77</td>\n      <td>2023-12-31 22:00:00</td>\n      <td>22.00</td>\n      <td>21.0</td>\n      <td>-99.0</td>\n      <td>0.0</td>\n      <td>20.0</td>\n      <td>18.0</td>\n      <td>-99.0</td>\n      <td>0.0</td>\n      <td>...</td>\n      <td>NaN</td>\n      <td>NaN</td>\n      <td>NaN</td>\n      <td>NaN</td>\n      <td>0.0</td>\n      <td>0.0</td>\n      <td>69.0</td>\n      <td>36.0</td>\n      <td>61.77</td>\n      <td>61.77</td>\n    </tr>\n    <tr>\n      <th>8762</th>\n      <td>59.31</td>\n      <td>2023-12-31 23:00:00</td>\n      <td>-99.00</td>\n      <td>-99.0</td>\n      <td>-99.0</td>\n      <td>-99.0</td>\n      <td>-99.0</td>\n      <td>-99.0</td>\n      <td>-99.0</td>\n      <td>-99.0</td>\n      <td>...</td>\n      <td>NaN</td>\n      <td>NaN</td>\n      <td>NaN</td>\n      <td>NaN</td>\n      <td>17.0</td>\n      <td>9.0</td>\n      <td>75.0</td>\n      <td>0.0</td>\n      <td>59.31</td>\n      <td>59.31</td>\n    </tr>\n  </tbody>\n</table>\n<p>8763 rows × 24 columns</p>\n</div>"
     },
     "execution_count": 64,
     "metadata": {},
     "output_type": "execute_result"
    }
   ],
   "source": [
    "areas['NO1']\n"
   ],
   "metadata": {
    "collapsed": false,
    "ExecuteTime": {
     "end_time": "2024-04-21T10:48:06.976665Z",
     "start_time": "2024-04-21T10:48:06.938067Z"
    }
   },
   "execution_count": 64
  },
  {
   "cell_type": "code",
   "outputs": [],
   "source": [],
   "metadata": {
    "collapsed": false,
    "ExecuteTime": {
     "end_time": "2024-04-21T10:44:43.766545Z",
     "start_time": "2024-04-21T10:44:43.766149Z"
    }
   }
  }
 ],
 "metadata": {
  "kernelspec": {
   "display_name": "inf200june",
   "language": "python",
   "name": "python3"
  },
  "language_info": {
   "codemirror_mode": {
    "name": "ipython",
    "version": 3
   },
   "file_extension": ".py",
   "mimetype": "text/x-python",
   "name": "python",
   "nbconvert_exporter": "python",
   "pygments_lexer": "ipython3",
   "version": "3.11.7"
  }
 },
 "nbformat": 4,
 "nbformat_minor": 2
}
