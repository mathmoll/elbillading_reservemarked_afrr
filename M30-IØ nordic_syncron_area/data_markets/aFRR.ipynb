{
 "cells": [
  {
   "cell_type": "code",
   "outputs": [
    {
     "name": "stderr",
     "output_type": "stream",
     "text": [
      "/Users/mathiasmollatt/opt/miniconda3/envs/inf200june/lib/python3.11/site-packages/entsoe/parsers.py:449: FutureWarning: DataFrame.groupby with axis=1 is deprecated. Do `frame.T.groupby(...)` without axis instead.\n",
      "  df = df.groupby(axis=1, level = [0,1]).mean()\n",
      "/Users/mathiasmollatt/opt/miniconda3/envs/inf200june/lib/python3.11/site-packages/entsoe/parsers.py:449: FutureWarning: DataFrame.groupby with axis=1 is deprecated. Do `frame.T.groupby(...)` without axis instead.\n",
      "  df = df.groupby(axis=1, level = [0,1]).mean()\n",
      "/Users/mathiasmollatt/opt/miniconda3/envs/inf200june/lib/python3.11/site-packages/entsoe/parsers.py:449: FutureWarning: DataFrame.groupby with axis=1 is deprecated. Do `frame.T.groupby(...)` without axis instead.\n",
      "  df = df.groupby(axis=1, level = [0,1]).mean()\n",
      "/Users/mathiasmollatt/opt/miniconda3/envs/inf200june/lib/python3.11/site-packages/entsoe/parsers.py:449: FutureWarning: DataFrame.groupby with axis=1 is deprecated. Do `frame.T.groupby(...)` without axis instead.\n",
      "  df = df.groupby(axis=1, level = [0,1]).mean()\n",
      "/Users/mathiasmollatt/opt/miniconda3/envs/inf200june/lib/python3.11/site-packages/entsoe/parsers.py:449: FutureWarning: DataFrame.groupby with axis=1 is deprecated. Do `frame.T.groupby(...)` without axis instead.\n",
      "  df = df.groupby(axis=1, level = [0,1]).mean()\n",
      "/Users/mathiasmollatt/opt/miniconda3/envs/inf200june/lib/python3.11/site-packages/entsoe/parsers.py:449: FutureWarning: DataFrame.groupby with axis=1 is deprecated. Do `frame.T.groupby(...)` without axis instead.\n",
      "  df = df.groupby(axis=1, level = [0,1]).mean()\n",
      "/Users/mathiasmollatt/opt/miniconda3/envs/inf200june/lib/python3.11/site-packages/entsoe/parsers.py:449: FutureWarning: DataFrame.groupby with axis=1 is deprecated. Do `frame.T.groupby(...)` without axis instead.\n",
      "  df = df.groupby(axis=1, level = [0,1]).mean()\n",
      "/Users/mathiasmollatt/opt/miniconda3/envs/inf200june/lib/python3.11/site-packages/entsoe/parsers.py:449: FutureWarning: DataFrame.groupby with axis=1 is deprecated. Do `frame.T.groupby(...)` without axis instead.\n",
      "  df = df.groupby(axis=1, level = [0,1]).mean()\n",
      "/Users/mathiasmollatt/opt/miniconda3/envs/inf200june/lib/python3.11/site-packages/entsoe/parsers.py:449: FutureWarning: DataFrame.groupby with axis=1 is deprecated. Do `frame.T.groupby(...)` without axis instead.\n",
      "  df = df.groupby(axis=1, level = [0,1]).mean()\n",
      "/Users/mathiasmollatt/opt/miniconda3/envs/inf200june/lib/python3.11/site-packages/entsoe/parsers.py:449: FutureWarning: DataFrame.groupby with axis=1 is deprecated. Do `frame.T.groupby(...)` without axis instead.\n",
      "  df = df.groupby(axis=1, level = [0,1]).mean()\n",
      "/Users/mathiasmollatt/opt/miniconda3/envs/inf200june/lib/python3.11/site-packages/entsoe/parsers.py:449: FutureWarning: DataFrame.groupby with axis=1 is deprecated. Do `frame.T.groupby(...)` without axis instead.\n",
      "  df = df.groupby(axis=1, level = [0,1]).mean()\n",
      "/Users/mathiasmollatt/opt/miniconda3/envs/inf200june/lib/python3.11/site-packages/entsoe/parsers.py:449: FutureWarning: DataFrame.groupby with axis=1 is deprecated. Do `frame.T.groupby(...)` without axis instead.\n",
      "  df = df.groupby(axis=1, level = [0,1]).mean()\n",
      "/Users/mathiasmollatt/opt/miniconda3/envs/inf200june/lib/python3.11/site-packages/entsoe/parsers.py:449: FutureWarning: DataFrame.groupby with axis=1 is deprecated. Do `frame.T.groupby(...)` without axis instead.\n",
      "  df = df.groupby(axis=1, level = [0,1]).mean()\n",
      "/Users/mathiasmollatt/opt/miniconda3/envs/inf200june/lib/python3.11/site-packages/entsoe/parsers.py:449: FutureWarning: DataFrame.groupby with axis=1 is deprecated. Do `frame.T.groupby(...)` without axis instead.\n",
      "  df = df.groupby(axis=1, level = [0,1]).mean()\n",
      "/Users/mathiasmollatt/opt/miniconda3/envs/inf200june/lib/python3.11/site-packages/entsoe/parsers.py:449: FutureWarning: DataFrame.groupby with axis=1 is deprecated. Do `frame.T.groupby(...)` without axis instead.\n",
      "  df = df.groupby(axis=1, level = [0,1]).mean()\n",
      "/Users/mathiasmollatt/opt/miniconda3/envs/inf200june/lib/python3.11/site-packages/entsoe/parsers.py:449: FutureWarning: DataFrame.groupby with axis=1 is deprecated. Do `frame.T.groupby(...)` without axis instead.\n",
      "  df = df.groupby(axis=1, level = [0,1]).mean()\n",
      "/Users/mathiasmollatt/opt/miniconda3/envs/inf200june/lib/python3.11/site-packages/entsoe/parsers.py:449: FutureWarning: DataFrame.groupby with axis=1 is deprecated. Do `frame.T.groupby(...)` without axis instead.\n",
      "  df = df.groupby(axis=1, level = [0,1]).mean()\n",
      "/Users/mathiasmollatt/opt/miniconda3/envs/inf200june/lib/python3.11/site-packages/entsoe/parsers.py:449: FutureWarning: DataFrame.groupby with axis=1 is deprecated. Do `frame.T.groupby(...)` without axis instead.\n",
      "  df = df.groupby(axis=1, level = [0,1]).mean()\n"
     ]
    },
    {
     "ename": "NameError",
     "evalue": "name 'areas' is not defined",
     "output_type": "error",
     "traceback": [
      "\u001B[0;31m---------------------------------------------------------------------------\u001B[0m",
      "\u001B[0;31mNameError\u001B[0m                                 Traceback (most recent call last)",
      "Cell \u001B[0;32mIn[1], line 39\u001B[0m\n\u001B[1;32m     35\u001B[0m reservemarked_volum[\u001B[38;5;124m'\u001B[39m\u001B[38;5;124mDatetime\u001B[39m\u001B[38;5;124m'\u001B[39m] \u001B[38;5;241m=\u001B[39m reservemarked_volum[\u001B[38;5;124m'\u001B[39m\u001B[38;5;124mDatetime\u001B[39m\u001B[38;5;124m'\u001B[39m]\u001B[38;5;241m.\u001B[39mdt\u001B[38;5;241m.\u001B[39mtz_convert(\u001B[38;5;124m'\u001B[39m\u001B[38;5;124mUTC\u001B[39m\u001B[38;5;124m'\u001B[39m) \u001B[38;5;66;03m#convert to UTC\u001B[39;00m\n\u001B[1;32m     38\u001B[0m \u001B[38;5;66;03m#merge the data into areas['NO1']\u001B[39;00m\n\u001B[0;32m---> 39\u001B[0m areas[\u001B[38;5;124m'\u001B[39m\u001B[38;5;124mNO1\u001B[39m\u001B[38;5;124m'\u001B[39m] \u001B[38;5;241m=\u001B[39m pd\u001B[38;5;241m.\u001B[39mmerge(areas[\u001B[38;5;124m'\u001B[39m\u001B[38;5;124mNO1\u001B[39m\u001B[38;5;124m'\u001B[39m], reservemarked_pris, how\u001B[38;5;241m=\u001B[39m\u001B[38;5;124m'\u001B[39m\u001B[38;5;124mleft\u001B[39m\u001B[38;5;124m'\u001B[39m, right_on\u001B[38;5;241m=\u001B[39m\u001B[38;5;124m\"\u001B[39m\u001B[38;5;124mDatetime\u001B[39m\u001B[38;5;124m\"\u001B[39m, left_on\u001B[38;5;241m=\u001B[39m\u001B[38;5;124m\"\u001B[39m\u001B[38;5;124mDatetime\u001B[39m\u001B[38;5;124m\"\u001B[39m)\n\u001B[1;32m     40\u001B[0m areas[\u001B[38;5;124m'\u001B[39m\u001B[38;5;124mNO1\u001B[39m\u001B[38;5;124m'\u001B[39m] \u001B[38;5;241m=\u001B[39m pd\u001B[38;5;241m.\u001B[39mmerge(areas[\u001B[38;5;124m'\u001B[39m\u001B[38;5;124mNO1\u001B[39m\u001B[38;5;124m'\u001B[39m], reservemarked_volum, how\u001B[38;5;241m=\u001B[39m\u001B[38;5;124m'\u001B[39m\u001B[38;5;124mleft\u001B[39m\u001B[38;5;124m'\u001B[39m, right_on\u001B[38;5;241m=\u001B[39m\u001B[38;5;124m\"\u001B[39m\u001B[38;5;124mDatetime\u001B[39m\u001B[38;5;124m\"\u001B[39m, left_on\u001B[38;5;241m=\u001B[39m\u001B[38;5;124m\"\u001B[39m\u001B[38;5;124mDatetime\u001B[39m\u001B[38;5;124m\"\u001B[39m)\n",
      "\u001B[0;31mNameError\u001B[0m: name 'areas' is not defined"
     ]
    }
   ],
   "source": [
    "# Set up price and volume for aFFR opp\n",
    "from entsoe import EntsoePandasClient\n",
    "import pandas as pd\n",
    "\n",
    "client = EntsoePandasClient(api_key='c008ebef-0f0f-42b2-a2ae-7330192177ac')\n",
    "\n",
    "start = pd.Timestamp('20230101', tz='Europe/Brussels')\n",
    "end = pd.Timestamp('20231231', tz='Europe/Brussels')\n",
    "country_code = 'NO_1'  # Belgium\n",
    "type_marketagreement_type = 'A01'\n",
    "\n",
    "# get the data\n",
    "day_ahead = client.query_day_ahead_prices(country_code, start=start, end=end) #KeyError: '60T'\n",
    "reservemarked_pris = client.query_contracted_reserve_prices(country_code, type_marketagreement_type, start=start, end=end, psr_type=None)\n",
    "reservemarked_volum = client.query_contracted_reserve_amount(country_code, type_marketagreement_type, start=start, end=end, psr_type=None)\n",
    "\n",
    "#clean the data\n",
    "reservemarked_pris.columns = reservemarked_pris.columns.droplevel(0) #remove multiindex in columns\n",
    "reservemarked_pris = reservemarked_pris.drop(columns=['Symmetric']) #del 'Frequency containment reserve' column\n",
    "reservemarked_pris = reservemarked_pris.rename(columns={'Down': 'aFRR down EUR/MW'}) #rename columnns\n",
    "reservemarked_pris = reservemarked_pris.rename(columns={'Up': 'aFRR up EUR/MW'}) #rename columnns\n",
    "\n",
    "reservemarked_volum.columns = reservemarked_volum.columns.droplevel(0) #remove multiindex in columns\n",
    "reservemarked_volum = reservemarked_volum.drop(columns=['Symmetric']) #del 'Frequency containment reserve' column\n",
    "reservemarked_volum = reservemarked_volum.rename(columns={'Down': 'aFRR down MW'}) #rename columnns\n",
    "reservemarked_volum = reservemarked_volum.rename(columns={'Up': 'aFRR up MW'}) #rename columnns\n",
    "\n",
    "\n",
    "reservemarked_pris = reservemarked_pris.reset_index() #remove index and set it as a column\n",
    "reservemarked_pris = reservemarked_pris.rename(columns={'index': 'Datetime'}) #change name of column\n",
    "reservemarked_pris['Datetime'] = reservemarked_pris['Datetime'].dt.tz_convert('UTC') #convert to UTC\n",
    "\n",
    "reservemarked_volum = reservemarked_volum.reset_index() #remove index and set it as a column\n",
    "reservemarked_volum = reservemarked_volum.rename(columns={'index': 'Datetime'}) #change name of column\n",
    "reservemarked_volum['Datetime'] = reservemarked_volum['Datetime'].dt.tz_convert('UTC') #convert to UTC\n",
    "\n",
    "\n",
    "#merge the data into areas['NO1']\n",
    "areas['NO1'] = pd.merge(areas['NO1'], reservemarked_pris, how='left', right_on=\"Datetime\", left_on=\"Datetime\")\n",
    "areas['NO1'] = pd.merge(areas['NO1'], reservemarked_volum, how='left', right_on=\"Datetime\", left_on=\"Datetime\")\n"
   ],
   "metadata": {
    "collapsed": false,
    "ExecuteTime": {
     "end_time": "2024-03-08T09:30:04.249977Z",
     "start_time": "2024-03-08T09:24:58.759060Z"
    }
   },
   "execution_count": 1
  }
 ],
 "metadata": {
  "kernelspec": {
   "display_name": "inf200june",
   "language": "python",
   "name": "python3"
  },
  "language_info": {
   "codemirror_mode": {
    "name": "ipython",
    "version": 3
   },
   "file_extension": ".py",
   "mimetype": "text/x-python",
   "name": "python",
   "nbconvert_exporter": "python",
   "pygments_lexer": "ipython3",
   "version": "3.11.7"
  }
 },
 "nbformat": 4,
 "nbformat_minor": 2
}
