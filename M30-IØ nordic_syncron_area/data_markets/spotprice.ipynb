{
 "cells": [
  {
   "cell_type": "code",
   "outputs": [],
   "source": [
    "import requests\n",
    "import pandas as pd\n",
    "from itertools import product"
   ],
   "metadata": {
    "collapsed": false,
    "ExecuteTime": {
     "end_time": "2024-02-17T19:24:29.923237Z",
     "start_time": "2024-02-17T19:24:29.867161Z"
    }
   },
   "id": "f4200e6d1bb95baf",
   "execution_count": 6
  },
  {
   "cell_type": "code",
   "outputs": [],
   "source": [
    "def fetch(year, areas):\n",
    "    \"\"\"\n",
    "    Fetches data from the hvakosterstrommen API\n",
    "    \n",
    "    Parameters\n",
    "    ----------\n",
    "    year : int\n",
    "    areas : list of str\n",
    "        For example [\"NO1\", \"NO2\"]\n",
    "\n",
    "    Returns\n",
    "    -------\n",
    "    pd.DataFrame\n",
    "    \n",
    "    Notes\n",
    "    -----\n",
    "    For Sweden, see https://www.elprisetjustnu.se/elpris-api\n",
    "    \"\"\"\n",
    "    URL = \"https://www.hvakosterstrommen.no/api/v1/prices/{}/{}-{}_{}.json\"\n",
    "    \n",
    "    _data = []\n",
    "    for month, day, area in product(range(1, 13), range(1, 32), areas):\n",
    "        try:\n",
    "            if pd.Timestamp(f\"{year}-{month}-{day}\") > pd.Timestamp.now():\n",
    "                print(f\"Cannot fetch data from the future. Returning data until \"\n",
    "                      f\"{year}-{str(month).zfill(2)}-{str(day).zfill(2)}\")\n",
    "                break\n",
    "        except ValueError:\n",
    "            pass\n",
    "        \n",
    "        _response = requests.get(URL.format(year, str(month).zfill(2), str(day).zfill(2), area))\n",
    "\n",
    "        if _response.status_code == 404:\n",
    "            print(f\"No data found for \"\n",
    "                  f\"{year}-{str(month).zfill(2)}-{str(day).zfill(2)}\") if day <= 28 else None\n",
    "            continue\n",
    "\n",
    "        _response = pd.DataFrame(_response.json()).drop(columns=[\"time_end\", \"NOK_per_kWh\", \"EXR\"])\n",
    "        _response.rename(columns={\"EUR_per_kWh\": f\"{area} EUR_per_MWh\"}, inplace=True)\n",
    "        #change EUR_per_kWh to EUR_per_MWh\n",
    "        _response[f\"{area} EUR_per_MWh\"] = _response[f\"{area} EUR_per_MWh\"] * 1000\n",
    "        _response[\"time_start\"] = pd.to_datetime(_response[\"time_start\"], \n",
    "                                                 utc=True) + pd.Timedelta(hours=1)\n",
    "        _response.set_index(\"time_start\", inplace=True)\n",
    "\n",
    "        _data.append(_response)\n",
    "    return pd.concat(_data, axis=1).T.groupby(level=0).first().T"
   ],
   "metadata": {
    "collapsed": false,
    "ExecuteTime": {
     "end_time": "2024-02-17T19:24:29.924133Z",
     "start_time": "2024-02-17T19:24:29.882691Z"
    }
   },
   "id": "10de26c028405519",
   "execution_count": 7
  },
  {
   "cell_type": "code",
   "outputs": [],
   "source": [
    "data = fetch(2023, [\"NO1\", \"NO2\", \"NO3\", \"NO4\", \"NO5\"])"
   ],
   "metadata": {
    "collapsed": false,
    "ExecuteTime": {
     "end_time": "2024-02-17T19:31:21.067190Z",
     "start_time": "2024-02-17T19:24:29.914800Z"
    }
   },
   "id": "41aa8636955fbcdb",
   "execution_count": 8
  },
  {
   "cell_type": "code",
   "outputs": [
    {
     "data": {
      "text/plain": "                           NO1 EUR_per_MWh  NO2 EUR_per_MWh  NO3 EUR_per_MWh  \\\ntime_start                                                                     \n2023-01-01 00:00:00+00:00           119.32           119.32            23.35   \n2023-01-01 01:00:00+00:00           108.83           108.83            23.28   \n2023-01-01 02:00:00+00:00           102.39           102.39            23.37   \n2023-01-01 03:00:00+00:00            92.36            92.36            23.67   \n2023-01-01 04:00:00+00:00            82.66            82.66            24.12   \n...                                    ...              ...              ...   \n2023-12-31 19:00:00+00:00            62.88            62.88            39.64   \n2023-12-31 20:00:00+00:00            62.60            62.60            34.89   \n2023-12-31 21:00:00+00:00            62.25            62.25            29.60   \n2023-12-31 22:00:00+00:00            61.77            61.77            28.67   \n2023-12-31 23:00:00+00:00            59.31            59.31            26.87   \n\n                           NO4 EUR_per_MWh  NO5 EUR_per_MWh  \ntime_start                                                   \n2023-01-01 00:00:00+00:00            23.35           119.32  \n2023-01-01 01:00:00+00:00            23.28           108.83  \n2023-01-01 02:00:00+00:00            23.37           102.39  \n2023-01-01 03:00:00+00:00            23.67            92.36  \n2023-01-01 04:00:00+00:00            24.12            82.66  \n...                                    ...              ...  \n2023-12-31 19:00:00+00:00            38.14            62.88  \n2023-12-31 20:00:00+00:00            34.89            62.60  \n2023-12-31 21:00:00+00:00            29.60            62.25  \n2023-12-31 22:00:00+00:00            28.67            61.77  \n2023-12-31 23:00:00+00:00            26.87            59.31  \n\n[8760 rows x 5 columns]",
      "text/html": "<div>\n<style scoped>\n    .dataframe tbody tr th:only-of-type {\n        vertical-align: middle;\n    }\n\n    .dataframe tbody tr th {\n        vertical-align: top;\n    }\n\n    .dataframe thead th {\n        text-align: right;\n    }\n</style>\n<table border=\"1\" class=\"dataframe\">\n  <thead>\n    <tr style=\"text-align: right;\">\n      <th></th>\n      <th>NO1 EUR_per_MWh</th>\n      <th>NO2 EUR_per_MWh</th>\n      <th>NO3 EUR_per_MWh</th>\n      <th>NO4 EUR_per_MWh</th>\n      <th>NO5 EUR_per_MWh</th>\n    </tr>\n    <tr>\n      <th>time_start</th>\n      <th></th>\n      <th></th>\n      <th></th>\n      <th></th>\n      <th></th>\n    </tr>\n  </thead>\n  <tbody>\n    <tr>\n      <th>2023-01-01 00:00:00+00:00</th>\n      <td>119.32</td>\n      <td>119.32</td>\n      <td>23.35</td>\n      <td>23.35</td>\n      <td>119.32</td>\n    </tr>\n    <tr>\n      <th>2023-01-01 01:00:00+00:00</th>\n      <td>108.83</td>\n      <td>108.83</td>\n      <td>23.28</td>\n      <td>23.28</td>\n      <td>108.83</td>\n    </tr>\n    <tr>\n      <th>2023-01-01 02:00:00+00:00</th>\n      <td>102.39</td>\n      <td>102.39</td>\n      <td>23.37</td>\n      <td>23.37</td>\n      <td>102.39</td>\n    </tr>\n    <tr>\n      <th>2023-01-01 03:00:00+00:00</th>\n      <td>92.36</td>\n      <td>92.36</td>\n      <td>23.67</td>\n      <td>23.67</td>\n      <td>92.36</td>\n    </tr>\n    <tr>\n      <th>2023-01-01 04:00:00+00:00</th>\n      <td>82.66</td>\n      <td>82.66</td>\n      <td>24.12</td>\n      <td>24.12</td>\n      <td>82.66</td>\n    </tr>\n    <tr>\n      <th>...</th>\n      <td>...</td>\n      <td>...</td>\n      <td>...</td>\n      <td>...</td>\n      <td>...</td>\n    </tr>\n    <tr>\n      <th>2023-12-31 19:00:00+00:00</th>\n      <td>62.88</td>\n      <td>62.88</td>\n      <td>39.64</td>\n      <td>38.14</td>\n      <td>62.88</td>\n    </tr>\n    <tr>\n      <th>2023-12-31 20:00:00+00:00</th>\n      <td>62.60</td>\n      <td>62.60</td>\n      <td>34.89</td>\n      <td>34.89</td>\n      <td>62.60</td>\n    </tr>\n    <tr>\n      <th>2023-12-31 21:00:00+00:00</th>\n      <td>62.25</td>\n      <td>62.25</td>\n      <td>29.60</td>\n      <td>29.60</td>\n      <td>62.25</td>\n    </tr>\n    <tr>\n      <th>2023-12-31 22:00:00+00:00</th>\n      <td>61.77</td>\n      <td>61.77</td>\n      <td>28.67</td>\n      <td>28.67</td>\n      <td>61.77</td>\n    </tr>\n    <tr>\n      <th>2023-12-31 23:00:00+00:00</th>\n      <td>59.31</td>\n      <td>59.31</td>\n      <td>26.87</td>\n      <td>26.87</td>\n      <td>59.31</td>\n    </tr>\n  </tbody>\n</table>\n<p>8760 rows × 5 columns</p>\n</div>"
     },
     "execution_count": 9,
     "metadata": {},
     "output_type": "execute_result"
    }
   ],
   "source": [
    "data"
   ],
   "metadata": {
    "collapsed": false,
    "ExecuteTime": {
     "end_time": "2024-02-17T19:31:21.129743Z",
     "start_time": "2024-02-17T19:31:21.084298Z"
    }
   },
   "id": "3b90a00cc13c91db",
   "execution_count": 9
  },
  {
   "cell_type": "code",
   "outputs": [],
   "source": [
    "data.to_pickle(\"./2023_spot_norway.pkl\")"
   ],
   "metadata": {
    "collapsed": false,
    "ExecuteTime": {
     "end_time": "2024-02-17T19:31:21.238970Z",
     "start_time": "2024-02-17T19:31:21.123968Z"
    }
   },
   "id": "143b14f4c8b4fdb",
   "execution_count": 10
  },
  {
   "cell_type": "code",
   "outputs": [],
   "source": [],
   "metadata": {
    "collapsed": false,
    "ExecuteTime": {
     "end_time": "2024-02-17T19:31:21.595680Z",
     "start_time": "2024-02-17T19:31:21.218733Z"
    }
   },
   "id": "23286cd2eb671960",
   "execution_count": 10
  }
 ],
 "metadata": {
  "kernelspec": {
   "display_name": "Python 3",
   "language": "python",
   "name": "python3"
  },
  "language_info": {
   "codemirror_mode": {
    "name": "ipython",
    "version": 2
   },
   "file_extension": ".py",
   "mimetype": "text/x-python",
   "name": "python",
   "nbconvert_exporter": "python",
   "pygments_lexer": "ipython2",
   "version": "2.7.6"
  }
 },
 "nbformat": 4,
 "nbformat_minor": 5
}
