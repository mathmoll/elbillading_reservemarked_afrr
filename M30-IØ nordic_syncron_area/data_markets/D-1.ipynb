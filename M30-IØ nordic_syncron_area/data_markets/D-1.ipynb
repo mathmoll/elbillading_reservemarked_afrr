{
 "cells": [
  {
   "cell_type": "code",
   "execution_count": 9,
   "metadata": {
    "ExecuteTime": {
     "end_time": "2024-03-18T10:56:28.109415Z",
     "start_time": "2024-03-18T10:56:27.976192Z"
    }
   },
   "outputs": [],
   "source": [
    "import pandas as pd\n",
    "import numpy as np\n",
    "import pickle"
   ]
  },
  {
   "cell_type": "code",
   "execution_count": 10,
   "metadata": {
    "ExecuteTime": {
     "end_time": "2024-03-18T10:56:37.472038Z",
     "start_time": "2024-03-18T10:56:28.071172Z"
    }
   },
   "outputs": [],
   "source": [
    "# Load the Excel file\n",
    "file_path = 'PrimaryReservesD-1-2023_ny.xlsx'\n",
    "df = pd.read_excel(file_path)\n",
    "# Convert 'Time(Local)' column to datetime format\n",
    "df['Time(Local)'] = pd.to_datetime(df['Time(Local)'], format='%d.%m.%Y %H:%M:%S %z', utc=True)\n",
    "# convert to gmt+1\n",
    "df['Time(Local)'] = df['Time(Local)'] + pd.Timedelta(hours=1)\n",
    "\n",
    "# Drop the EUR columns as they are no longer needed\n",
    "df = df.drop(['Hournumber', 'FCR-N Price NOK/MW', 'FCR-D Price NOK/MW'], axis=1)\n",
    "\n",
    "df = df.rename(columns={'Time(Local)': 'Datetime',\n",
    "                            'FCR-N Price EUR/MW': 'D-1 FCR N EUR/MW',\n",
    "                            'FCR-N Volume MW': 'D-1 FCR N MW',\n",
    "                            'FCR-D Price EUR/MW': 'D-1 FCR D up EUR/MW',\n",
    "                            'FCR-D Volume MW': 'D-1 FCR D up MW'})\n",
    "\n",
    "\n",
    "\n",
    "\n",
    "\n"
   ]
  },
  {
   "cell_type": "code",
   "execution_count": 11,
   "metadata": {
    "ExecuteTime": {
     "end_time": "2024-03-18T10:56:37.510600Z",
     "start_time": "2024-03-18T10:56:37.479768Z"
    }
   },
   "outputs": [],
   "source": [
    "# Split the dataframe into the different areas\n",
    "NO1 = df[df['Area'] == 'NO1']\n",
    "NO2 = df[df['Area'] == 'NO2']\n",
    "NO3 = df[df['Area'] == 'NO3']\n",
    "NO4 = df[df['Area'] == 'NO4']\n",
    "NO5 = df[df['Area'] == 'NO5']\n",
    "\n",
    "# Drop the Area column as it is no longer needed\n",
    "NO1 = NO1.drop(['Area'], axis=1)\n",
    "NO2 = NO2.drop(['Area'], axis=1)\n",
    "NO3 = NO3.drop(['Area'], axis=1)\n",
    "NO4 = NO4.drop(['Area'], axis=1)\n",
    "NO5 = NO5.drop(['Area'], axis=1)\n"
   ]
  },
  {
   "cell_type": "code",
   "execution_count": 12,
   "metadata": {
    "ExecuteTime": {
     "end_time": "2024-03-18T10:56:37.521813Z",
     "start_time": "2024-03-18T10:56:37.514344Z"
    }
   },
   "outputs": [
    {
     "name": "stderr",
     "output_type": "stream",
     "text": [
      "/var/folders/3c/tpkrzdm9581crcp362vng33m0000gn/T/ipykernel_34690/265308482.py:7: FutureWarning: 'H' is deprecated and will be removed in a future version, please use 'h' instead.\n",
      "  date_range = pd.date_range(start, end, freq='H', tz='UTC')\n"
     ]
    }
   ],
   "source": [
    "# Create a new DataFrame with the timestamps\n",
    "# Define the start and end dates with specific hours\n",
    "start = '2023-01-01 00:00:00'\n",
    "end = '2023-12-31 23:00:00'\n",
    "\n",
    "# Generate a range of timestamps with a frequency of 1 hour\n",
    "date_range = pd.date_range(start, end, freq='H', tz='UTC')\n",
    "\n",
    "# Create a DataFrame with the timestamps\n",
    "date = pd.DataFrame({'Datetime': date_range})\n"
   ]
  },
  {
   "cell_type": "code",
   "execution_count": 13,
   "metadata": {
    "ExecuteTime": {
     "end_time": "2024-03-18T10:56:37.557861Z",
     "start_time": "2024-03-18T10:56:37.531839Z"
    }
   },
   "outputs": [],
   "source": [
    "# Merge dataframe with datetime for each area and fill missing values with -99\n",
    "\n",
    "NO1 = pd.merge(date, NO1, how='left', left_on='Datetime', right_on='Datetime')\n",
    "NO1.fillna(-99, inplace=True)\n",
    "\n",
    "NO2 = pd.merge(date, NO2, how='left', left_on='Datetime', right_on='Datetime')\n",
    "NO2.fillna(-99, inplace=True)\n",
    "\n",
    "NO3 = pd.merge(date, NO3, how='left', left_on='Datetime', right_on='Datetime')\n",
    "NO3.fillna(-99, inplace=True)\n",
    "\n",
    "NO4 = pd.merge(date, NO4, how='left', left_on='Datetime', right_on='Datetime')\n",
    "NO4.fillna(-99, inplace=True)\n",
    "\n",
    "NO5 = pd.merge(date, NO5, how='left', left_on='Datetime', right_on='Datetime')\n",
    "NO5.fillna(-99, inplace=True)\n"
   ]
  },
  {
   "cell_type": "code",
   "execution_count": 14,
   "metadata": {
    "ExecuteTime": {
     "end_time": "2024-03-18T10:56:37.570153Z",
     "start_time": "2024-03-18T10:56:37.559675Z"
    }
   },
   "outputs": [],
   "source": [
    "# Store the dataframes in a dictionary\n",
    "areas = {'NO1': NO1, 'NO2': NO2, 'NO3': NO3, 'NO4': NO4, 'NO5': NO5}\n",
    "\n",
    "# Save the dictionary to a pickle file\n",
    "with open('PrimaryReservesD-1-2023_ny.pkl', 'wb') as f:\n",
    "    pickle.dump(areas, f)"
   ]
  },
  {
   "cell_type": "code",
   "execution_count": 15,
   "metadata": {
    "ExecuteTime": {
     "end_time": "2024-03-18T10:56:37.590283Z",
     "start_time": "2024-03-18T10:56:37.585969Z"
    }
   },
   "outputs": [
    {
     "data": {
      "text/plain": "                      Datetime  D-1 FCR N EUR/MW  D-1 FCR N MW  \\\n0    2023-01-01 00:00:00+00:00             25.00          10.0   \n1    2023-01-01 01:00:00+00:00             35.80          10.0   \n2    2023-01-01 02:00:00+00:00             52.40           8.0   \n3    2023-01-01 03:00:00+00:00             71.50           8.0   \n4    2023-01-01 04:00:00+00:00             90.00           8.0   \n...                        ...               ...           ...   \n8755 2023-12-31 19:00:00+00:00             22.24          20.0   \n8756 2023-12-31 20:00:00+00:00             23.10          20.0   \n8757 2023-12-31 21:00:00+00:00             23.10          21.0   \n8758 2023-12-31 22:00:00+00:00             22.00          21.0   \n8759 2023-12-31 23:00:00+00:00            -99.00         -99.0   \n\n      D-1 FCR D up EUR/MW  D-1 FCR D up MW  \n0                   -99.0              0.0  \n1                   -99.0              0.0  \n2                   -99.0              0.0  \n3                   -99.0              0.0  \n4                   -99.0              0.0  \n...                   ...              ...  \n8755                -99.0              0.0  \n8756                -99.0              0.0  \n8757                -99.0              0.0  \n8758                -99.0              0.0  \n8759                -99.0            -99.0  \n\n[8760 rows x 5 columns]",
      "text/html": "<div>\n<style scoped>\n    .dataframe tbody tr th:only-of-type {\n        vertical-align: middle;\n    }\n\n    .dataframe tbody tr th {\n        vertical-align: top;\n    }\n\n    .dataframe thead th {\n        text-align: right;\n    }\n</style>\n<table border=\"1\" class=\"dataframe\">\n  <thead>\n    <tr style=\"text-align: right;\">\n      <th></th>\n      <th>Datetime</th>\n      <th>D-1 FCR N EUR/MW</th>\n      <th>D-1 FCR N MW</th>\n      <th>D-1 FCR D up EUR/MW</th>\n      <th>D-1 FCR D up MW</th>\n    </tr>\n  </thead>\n  <tbody>\n    <tr>\n      <th>0</th>\n      <td>2023-01-01 00:00:00+00:00</td>\n      <td>25.00</td>\n      <td>10.0</td>\n      <td>-99.0</td>\n      <td>0.0</td>\n    </tr>\n    <tr>\n      <th>1</th>\n      <td>2023-01-01 01:00:00+00:00</td>\n      <td>35.80</td>\n      <td>10.0</td>\n      <td>-99.0</td>\n      <td>0.0</td>\n    </tr>\n    <tr>\n      <th>2</th>\n      <td>2023-01-01 02:00:00+00:00</td>\n      <td>52.40</td>\n      <td>8.0</td>\n      <td>-99.0</td>\n      <td>0.0</td>\n    </tr>\n    <tr>\n      <th>3</th>\n      <td>2023-01-01 03:00:00+00:00</td>\n      <td>71.50</td>\n      <td>8.0</td>\n      <td>-99.0</td>\n      <td>0.0</td>\n    </tr>\n    <tr>\n      <th>4</th>\n      <td>2023-01-01 04:00:00+00:00</td>\n      <td>90.00</td>\n      <td>8.0</td>\n      <td>-99.0</td>\n      <td>0.0</td>\n    </tr>\n    <tr>\n      <th>...</th>\n      <td>...</td>\n      <td>...</td>\n      <td>...</td>\n      <td>...</td>\n      <td>...</td>\n    </tr>\n    <tr>\n      <th>8755</th>\n      <td>2023-12-31 19:00:00+00:00</td>\n      <td>22.24</td>\n      <td>20.0</td>\n      <td>-99.0</td>\n      <td>0.0</td>\n    </tr>\n    <tr>\n      <th>8756</th>\n      <td>2023-12-31 20:00:00+00:00</td>\n      <td>23.10</td>\n      <td>20.0</td>\n      <td>-99.0</td>\n      <td>0.0</td>\n    </tr>\n    <tr>\n      <th>8757</th>\n      <td>2023-12-31 21:00:00+00:00</td>\n      <td>23.10</td>\n      <td>21.0</td>\n      <td>-99.0</td>\n      <td>0.0</td>\n    </tr>\n    <tr>\n      <th>8758</th>\n      <td>2023-12-31 22:00:00+00:00</td>\n      <td>22.00</td>\n      <td>21.0</td>\n      <td>-99.0</td>\n      <td>0.0</td>\n    </tr>\n    <tr>\n      <th>8759</th>\n      <td>2023-12-31 23:00:00+00:00</td>\n      <td>-99.00</td>\n      <td>-99.0</td>\n      <td>-99.0</td>\n      <td>-99.0</td>\n    </tr>\n  </tbody>\n</table>\n<p>8760 rows × 5 columns</p>\n</div>"
     },
     "execution_count": 15,
     "metadata": {},
     "output_type": "execute_result"
    }
   ],
   "source": [
    "areas['NO1']"
   ]
  },
  {
   "cell_type": "code",
   "execution_count": 16,
   "metadata": {
    "ExecuteTime": {
     "end_time": "2024-03-18T10:56:37.604048Z",
     "start_time": "2024-03-18T10:56:37.592476Z"
    }
   },
   "outputs": [
    {
     "data": {
      "text/plain": "\" # load the pickle file\\nwith open('PrimaryReservesD-2-2023_ny.pkl', 'rb') as f:\\n    data = pickle.load(f) \""
     },
     "execution_count": 16,
     "metadata": {},
     "output_type": "execute_result"
    }
   ],
   "source": [
    "\"\"\" # load the pickle file\n",
    "with open('PrimaryReservesD-2-2023_ny.pkl', 'rb') as f:\n",
    "    data = pickle.load(f) \"\"\""
   ]
  }
 ],
 "metadata": {
  "kernelspec": {
   "display_name": "dat200",
   "language": "python",
   "name": "python3"
  },
  "language_info": {
   "codemirror_mode": {
    "name": "ipython",
    "version": 3
   },
   "file_extension": ".py",
   "mimetype": "text/x-python",
   "name": "python",
   "nbconvert_exporter": "python",
   "pygments_lexer": "ipython3",
   "version": "3.11.7"
  }
 },
 "nbformat": 4,
 "nbformat_minor": 2
}
